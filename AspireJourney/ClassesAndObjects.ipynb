{
 "cells": [
  {
   "cell_type": "code",
   "execution_count": 1,
   "id": "d706cf8c-b06d-48e0-973d-2ccc95c5627c",
   "metadata": {},
   "outputs": [],
   "source": [
    "class Student:\n",
    "    pass"
   ]
  },
  {
   "cell_type": "code",
   "execution_count": 2,
   "id": "3362a1a3-3eaf-4ecf-b3fa-f763f8007581",
   "metadata": {},
   "outputs": [
    {
     "data": {
      "text/plain": [
       "type"
      ]
     },
     "execution_count": 2,
     "metadata": {},
     "output_type": "execute_result"
    }
   ],
   "source": [
    "type(Student)"
   ]
  },
  {
   "cell_type": "code",
   "execution_count": 4,
   "id": "b347de8e-5e37-4a25-9012-50b6de81d377",
   "metadata": {},
   "outputs": [],
   "source": [
    "obj1 = Student()"
   ]
  },
  {
   "cell_type": "code",
   "execution_count": 5,
   "id": "904ba3ae-1da5-4aea-9356-f126ae859d0a",
   "metadata": {},
   "outputs": [],
   "source": [
    "obj2 = Student()"
   ]
  },
  {
   "cell_type": "code",
   "execution_count": 6,
   "id": "36d9e415-46e3-4e33-b642-f7a341119e0f",
   "metadata": {},
   "outputs": [
    {
     "data": {
      "text/plain": [
       "<__main__.Student at 0x722ab1987440>"
      ]
     },
     "execution_count": 6,
     "metadata": {},
     "output_type": "execute_result"
    }
   ],
   "source": [
    "obj1"
   ]
  },
  {
   "cell_type": "code",
   "execution_count": 7,
   "id": "c4e8270c-12f4-46d5-a3bd-01608602eb02",
   "metadata": {},
   "outputs": [
    {
     "data": {
      "text/plain": [
       "<__main__.Student at 0x722ab1985280>"
      ]
     },
     "execution_count": 7,
     "metadata": {},
     "output_type": "execute_result"
    }
   ],
   "source": [
    "obj2"
   ]
  },
  {
   "cell_type": "code",
   "execution_count": 9,
   "id": "82776d4e-1c7d-4bfc-82b5-644a7864b91c",
   "metadata": {},
   "outputs": [
    {
     "data": {
      "text/plain": [
       "True"
      ]
     },
     "execution_count": 9,
     "metadata": {},
     "output_type": "execute_result"
    }
   ],
   "source": [
    "isinstance(obj1, Student)"
   ]
  },
  {
   "cell_type": "code",
   "execution_count": 10,
   "id": "83264d97-ed01-4074-89bb-c30dbb67f0ac",
   "metadata": {},
   "outputs": [
    {
     "data": {
      "text/plain": [
       "False"
      ]
     },
     "execution_count": 10,
     "metadata": {},
     "output_type": "execute_result"
    }
   ],
   "source": [
    "isinstance(obj1, type)"
   ]
  },
  {
   "cell_type": "code",
   "execution_count": 11,
   "id": "47d6f617-b8a1-4ead-afc9-e067a66d981d",
   "metadata": {},
   "outputs": [
    {
     "name": "stdout",
     "output_type": "stream",
     "text": [
      "test\n"
     ]
    }
   ],
   "source": [
    "class Student:\n",
    "    def print_val(self):\n",
    "        print(\"test\")\n",
    "\n",
    "obj1 = Student()\n",
    "Student.print_val(obj1)\n"
   ]
  },
  {
   "cell_type": "code",
   "execution_count": null,
   "id": "3d512e71-6f57-4742-bfc4-4ecf05c994ce",
   "metadata": {},
   "outputs": [],
   "source": []
  }
 ],
 "metadata": {
  "kernelspec": {
   "display_name": "Python 3 (ipykernel)",
   "language": "python",
   "name": "python3"
  },
  "language_info": {
   "codemirror_mode": {
    "name": "ipython",
    "version": 3
   },
   "file_extension": ".py",
   "mimetype": "text/x-python",
   "name": "python",
   "nbconvert_exporter": "python",
   "pygments_lexer": "ipython3",
   "version": "3.12.4"
  }
 },
 "nbformat": 4,
 "nbformat_minor": 5
}
