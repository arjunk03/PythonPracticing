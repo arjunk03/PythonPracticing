{
 "cells": [
  {
   "cell_type": "code",
   "execution_count": 1,
   "id": "98222719-4ac3-4b45-8444-d40856fd03e8",
   "metadata": {},
   "outputs": [
    {
     "name": "stdout",
     "output_type": "stream",
     "text": [
      "Python 3.12.4\n"
     ]
    }
   ],
   "source": [
    "!python --version"
   ]
  },
  {
   "cell_type": "code",
   "execution_count": 8,
   "id": "d3803ef3-c661-4944-94c0-4a20dd60e5e6",
   "metadata": {},
   "outputs": [
    {
     "data": {
      "text/plain": [
       "True"
      ]
     },
     "execution_count": 8,
     "metadata": {},
     "output_type": "execute_result"
    }
   ],
   "source": [
    "max(1,2,3,4)\n"
   ]
  },
  {
   "cell_type": "code",
   "execution_count": 3,
   "id": "b5291c27-4f0b-4316-aac7-3edadbd974c3",
   "metadata": {},
   "outputs": [
    {
     "data": {
      "text/plain": [
       "3"
      ]
     },
     "execution_count": 3,
     "metadata": {},
     "output_type": "execute_result"
    }
   ],
   "source": [
    "min(3,5,7,8)\n"
   ]
  },
  {
   "cell_type": "code",
   "execution_count": 5,
   "id": "e5be7667-9968-4556-8dd9-b67cf7783f21",
   "metadata": {},
   "outputs": [
    {
     "data": {
      "text/plain": [
       "True"
      ]
     },
     "execution_count": 5,
     "metadata": {},
     "output_type": "execute_result"
    }
   ],
   "source": [
    "any([1,4,5])\n"
   ]
  },
  {
   "cell_type": "code",
   "execution_count": 6,
   "id": "967d24b6-eb47-457f-8e7e-ba3a635977dc",
   "metadata": {
    "scrolled": true
   },
   "outputs": [
    {
     "data": {
      "text/plain": [
       "False"
      ]
     },
     "execution_count": 6,
     "metadata": {},
     "output_type": "execute_result"
    }
   ],
   "source": [
    "any([0,0,None, \"\"])\n"
   ]
  },
  {
   "cell_type": "code",
   "execution_count": 10,
   "id": "39ac5369-fb6c-4248-a1c4-448892326b24",
   "metadata": {},
   "outputs": [
    {
     "data": {
      "text/plain": [
       "True"
      ]
     },
     "execution_count": 10,
     "metadata": {},
     "output_type": "execute_result"
    }
   ],
   "source": [
    "all([1,2,3])\n"
   ]
  },
  {
   "cell_type": "code",
   "execution_count": 11,
   "id": "b6e69bf6-d60d-42b2-a714-bcd10c8f689f",
   "metadata": {},
   "outputs": [
    {
     "data": {
      "text/plain": [
       "False"
      ]
     },
     "execution_count": 11,
     "metadata": {},
     "output_type": "execute_result"
    }
   ],
   "source": [
    "all([0,2,3])\n"
   ]
  },
  {
   "cell_type": "code",
   "execution_count": null,
   "id": "002766aa-0707-4ab9-980f-c82557313403",
   "metadata": {},
   "outputs": [],
   "source": []
  }
 ],
 "metadata": {
  "kernelspec": {
   "display_name": "Python 3 (ipykernel)",
   "language": "python",
   "name": "python3"
  },
  "language_info": {
   "codemirror_mode": {
    "name": "ipython",
    "version": 3
   },
   "file_extension": ".py",
   "mimetype": "text/x-python",
   "name": "python",
   "nbconvert_exporter": "python",
   "pygments_lexer": "ipython3",
   "version": "3.12.4"
  }
 },
 "nbformat": 4,
 "nbformat_minor": 5
}
